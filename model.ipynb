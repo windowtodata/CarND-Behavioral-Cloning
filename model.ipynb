{
 "cells": [
  {
   "cell_type": "code",
   "execution_count": 1,
   "metadata": {
    "collapsed": false
   },
   "outputs": [
    {
     "name": "stderr",
     "output_type": "stream",
     "text": [
      "Using TensorFlow backend.\n"
     ]
    }
   ],
   "source": [
    "import cv2\n",
    "import os\n",
    "import csv\n",
    "import numpy as np\n",
    "%matplotlib inline\n",
    "from matplotlib import pyplot as plt\n",
    "import numpy as np\n",
    "from keras.models import Sequential\n",
    "from keras.layers import Flatten, Dense, Lambda\n",
    "from keras.layers.convolutional import Conv2D, Cropping2D\n",
    "from keras.layers.pooling import MaxPooling2D\n",
    "from keras.optimizers import Adam\n",
    "from keras.layers.core import Dropout\n",
    "from sklearn.model_selection import train_test_split\n",
    "from sklearn.utils import shuffle"
   ]
  },
  {
   "cell_type": "code",
   "execution_count": 2,
   "metadata": {
    "collapsed": true
   },
   "outputs": [],
   "source": [
    "correction=0.25\n",
    "learning_rate=5e-4\n",
    "brt = 15"
   ]
  },
  {
   "cell_type": "code",
   "execution_count": 3,
   "metadata": {
    "collapsed": true
   },
   "outputs": [],
   "source": [
    "# Option#1\n",
    "def generator(samples, batch_size=32):\n",
    "    num_samples = len(samples)\n",
    "    while 1: # Loop forever so the generator never terminates\n",
    "        shuffle(samples)\n",
    "        for offset in range(0, num_samples, batch_size):\n",
    "            batch_samples = samples[offset:offset+batch_size]\n",
    "\n",
    "            images = []\n",
    "            angles = []\n",
    "            for batch_sample in batch_samples:\n",
    "                center_angle = float(batch_sample[3])\n",
    "                if abs(center_angle) > 0.013:\n",
    "                    center_image = cv2.imread(os.path.normpath(batch_sample[0]))\n",
    "                    #center_image = adjust_gamma(center_image)\n",
    "                    center_image = cv2.cvtColor(center_image, cv2.COLOR_BGR2HSV)\n",
    "                    center_image[:,:,2] += brt\n",
    "                    images.append(center_image)\n",
    "                    angles.append(center_angle)\n",
    "                    #Flipped image\n",
    "                    center_image_flipped = np.fliplr(center_image)\n",
    "                    center_image_flipped = cv2.cvtColor(center_image_flipped, cv2.COLOR_BGR2HSV)\n",
    "                    center_image_flipped[:,:,2] += brt\n",
    "                    center_angle_flipped = -center_angle\n",
    "                    images.append(center_image_flipped)\n",
    "                    angles.append(center_angle_flipped)\n",
    "\n",
    "                    #Left Image\n",
    "                    left_image = cv2.imread(os.path.normpath(batch_sample[1]))\n",
    "                    left_image = cv2.cvtColor(left_image, cv2.COLOR_BGR2HSV)\n",
    "                    left_image[:,:,2] += brt\n",
    "                    left_angle = float(batch_sample[3])+correction\n",
    "                    images.append(left_image)\n",
    "                    angles.append(left_angle)\n",
    "                    #Right Image\n",
    "                    right_image = cv2.imread(os.path.normpath(batch_sample[2]))\n",
    "                    right_image = cv2.cvtColor(right_image, cv2.COLOR_BGR2HSV)\n",
    "                    right_image[:,:,2] += brt\n",
    "                    right_angle = float(batch_sample[3])-correction\n",
    "                    images.append(right_image)\n",
    "                    angles.append(right_angle)\n",
    "\n",
    "\n",
    "                    # trim image to only see section with road\n",
    "                    X_train = np.array(images)\n",
    "                    y_train = np.array(angles)\n",
    "                    yield shuffle(X_train, y_train)"
   ]
  },
  {
   "cell_type": "code",
   "execution_count": 4,
   "metadata": {
    "collapsed": true
   },
   "outputs": [],
   "source": [
    "# Option#1\n",
    "samples = []\n",
    "with open('cardata/driving_log.csv') as csvfile:\n",
    "    reader = csv.reader(csvfile)\n",
    "    for line in reader:\n",
    "        samples.append(line)\n",
    "train_samples, validation_samples = train_test_split(samples, test_size=0.1)\n",
    "train_generator = generator(train_samples, batch_size=32)\n",
    "validation_generator = generator(validation_samples, batch_size=32)"
   ]
  },
  {
   "cell_type": "code",
   "execution_count": 5,
   "metadata": {
    "collapsed": false
   },
   "outputs": [],
   "source": [
    "model=Sequential()\n",
    "\n",
    "# Normalize\n",
    "model.add(Lambda(lambda x: x/127.5 - 1., input_shape=(160,320,3)))\n",
    "model.add(Cropping2D(cropping=((70,25),(100,100))))\n",
    "model.add(Conv2D(24, (5, 5), strides=(2, 2), activation=\"relu\"))\n",
    "model.add(Conv2D(36, (5, 5), strides=(2, 2), activation=\"relu\"))\n",
    "model.add(Conv2D(48, (5, 5), strides=(2, 2), activation=\"relu\"))\n",
    "model.add(Conv2D(64, (3, 3), activation=\"relu\"))\n",
    "model.add(Conv2D(64, (3, 3), activation=\"relu\"))\n",
    "model.add(Flatten())\n",
    "model.add(Dense(100))\n",
    "model.add(Dense(50))\n",
    "model.add(Dense(10))\n",
    "model.add(Dropout(0.8))\n",
    "model.add(Dense(1))\n",
    "model.compile(optimizer=Adam(lr=learning_rate), loss='mse')"
   ]
  },
  {
   "cell_type": "code",
   "execution_count": 6,
   "metadata": {
    "collapsed": false
   },
   "outputs": [
    {
     "name": "stdout",
     "output_type": "stream",
     "text": [
      "Epoch 1/4\n",
      "10536/10536 [==============================] - 286s - loss: 0.0653 - val_loss: 0.0599\n",
      "Epoch 2/4\n",
      "10536/10536 [==============================] - 295s - loss: 0.0534 - val_loss: 0.0381\n",
      "Epoch 3/4\n",
      "10536/10536 [==============================] - 301s - loss: 0.0463 - val_loss: 0.0358\n",
      "Epoch 4/4\n",
      "10536/10536 [==============================] - 295s - loss: 0.0440 - val_loss: 0.0310\n"
     ]
    }
   ],
   "source": [
    "# Option#1\n",
    "_history = model.fit_generator(train_generator, steps_per_epoch=len(train_samples),\n",
    "                    validation_data=validation_generator,\n",
    "                    validation_steps=len(validation_samples),\n",
    "                    verbose=1, epochs=4)"
   ]
  },
  {
   "cell_type": "code",
   "execution_count": 6,
   "metadata": {
    "collapsed": true
   },
   "outputs": [],
   "source": [
    "# Option#2\n",
    "def adjust_gamma(image, gamma=1.0):\n",
    "    # build a lookup table mapping the pixel values [0, 255] to\n",
    "    # their adjusted gamma values\n",
    "    invGamma = 1.0 / gamma\n",
    "    table = np.array([((i / 255.0) ** invGamma) * 255\n",
    "                      for i in np.arange(0, 256)]).astype(\"uint8\")\n",
    "    # apply gamma correction using the lookup table\n",
    "    return cv2.LUT(image, table)"
   ]
  },
  {
   "cell_type": "code",
   "execution_count": 5,
   "metadata": {
    "collapsed": false
   },
   "outputs": [],
   "source": [
    "# Option#2\n",
    "\n",
    "images = []\n",
    "angles = []\n",
    "with open('cardata\\driving_log.csv') as csvfile:\n",
    "    reader = csv.reader(csvfile)\n",
    "    for batch_sample in reader:\n",
    "        center_angle = float(batch_sample[3])\n",
    "        if abs(center_angle) > 0.013:\n",
    "            center_image = cv2.imread(os.path.normpath(batch_sample[0]))\n",
    "            #center_image = adjust_gamma(center_image)\n",
    "            center_image = cv2.cvtColor(center_image, cv2.COLOR_BGR2HSV)\n",
    "            center_image[:,:,2] += brt\n",
    "            images.append(center_image)\n",
    "            angles.append(center_angle)\n",
    "            #Flipped image\n",
    "            center_image_flipped = np.fliplr(center_image)\n",
    "            center_image_flipped = cv2.cvtColor(center_image_flipped, cv2.COLOR_BGR2HSV)\n",
    "            center_image_flipped[:,:,2] += brt\n",
    "            center_angle_flipped = -center_angle\n",
    "            images.append(center_image_flipped)\n",
    "            angles.append(center_angle_flipped)\n",
    "        \n",
    "            #Left Image\n",
    "            left_image = cv2.imread(os.path.normpath(batch_sample[1]))\n",
    "            left_image = cv2.cvtColor(left_image, cv2.COLOR_BGR2HSV)\n",
    "            left_image[:,:,2] += brt\n",
    "            left_angle = float(batch_sample[3])+correction\n",
    "            images.append(left_image)\n",
    "            angles.append(left_angle)\n",
    "            #Right Image\n",
    "            right_image = cv2.imread(os.path.normpath(batch_sample[2]))\n",
    "            right_image = cv2.cvtColor(right_image, cv2.COLOR_BGR2HSV)\n",
    "            right_image[:,:,2] += brt\n",
    "            right_angle = float(batch_sample[3])-correction\n",
    "            images.append(right_image)\n",
    "            angles.append(right_angle)\n",
    "        \n",
    "X_train = np.array(images)\n",
    "y_train = np.array(angles)"
   ]
  },
  {
   "cell_type": "code",
   "execution_count": 6,
   "metadata": {
    "collapsed": false
   },
   "outputs": [
    {
     "name": "stdout",
     "output_type": "stream",
     "text": [
      "Train on 30387 samples, validate on 3377 samples\n",
      "Epoch 1/4\n",
      "30387/30387 [==============================] - 21s - loss: 0.0686 - val_loss: 0.3556\n",
      "Epoch 2/4\n",
      "30387/30387 [==============================] - 20s - loss: 0.0582 - val_loss: 0.2748\n",
      "Epoch 3/4\n",
      "30387/30387 [==============================] - 20s - loss: 0.0550 - val_loss: 0.3443\n",
      "Epoch 4/4\n",
      "30387/30387 [==============================] - 20s - loss: 0.0512 - val_loss: 0.2622\n"
     ]
    }
   ],
   "source": [
    "# Option#2\n",
    "_history=model.fit(X_train, y_train, validation_split=0.1, shuffle=True, verbose=1, epochs=4)"
   ]
  },
  {
   "cell_type": "code",
   "execution_count": 7,
   "metadata": {
    "collapsed": false
   },
   "outputs": [],
   "source": [
    "model.save('model.h5')"
   ]
  },
  {
   "cell_type": "code",
   "execution_count": 8,
   "metadata": {
    "collapsed": false
   },
   "outputs": [
    {
     "name": "stdout",
     "output_type": "stream",
     "text": [
      "dict_keys(['val_loss', 'loss'])\n"
     ]
    }
   ],
   "source": [
    "### print the keys contained in the history object\n",
    "print(_history.history.keys())"
   ]
  },
  {
   "cell_type": "code",
   "execution_count": 9,
   "metadata": {
    "collapsed": false
   },
   "outputs": [
    {
     "data": {
      "image/png": "[encoded data removed]",
      "text/plain": [
       "<matplotlib.figure.Figure at 0x200b8d23978>"
      ]
     },
     "metadata": {},
     "output_type": "display_data"
    }
   ],
   "source": [
    "### plot the training and validation loss for each epoch\n",
    "plt.plot(_history.history['loss'])\n",
    "plt.plot(_history.history['val_loss'])\n",
    "plt.title('model mean squared error loss')\n",
    "plt.ylabel('mean squared error loss')\n",
    "plt.xlabel('epoch')\n",
    "plt.legend(['training set', 'validation set'], loc='upper right')\n",
    "plt.show()"
   ]
  },
  {
   "cell_type": "code",
   "execution_count": 1,
   "metadata": {
    "collapsed": true
   },
   "outputs": [],
   "source": [
    "import numpy as np\n",
    "import cv2\n",
    "import scipy.misc\n",
    "fl_im = np.fliplr(cv2.imread('examples/center_2017_08_25_04_32_33_082.jpg'))\n",
    "scipy.misc.imsave('examples/center_2017_08_25_04_32_33_082_flipped.jpg', fl_im)"
   ]
  },
  {
   "cell_type": "code",
   "execution_count": null,
   "metadata": {
    "collapsed": true
   },
   "outputs": [],
   "source": []
  }
 ],
 "metadata": {
  "kernelspec": {
   "display_name": "Python 3",
   "language": "python",
   "name": "python3"
  },
  "language_info": {
   "codemirror_mode": {
    "name": "ipython",
    "version": 3
   },
   "file_extension": ".py",
   "mimetype": "text/x-python",
   "name": "python",
   "nbconvert_exporter": "python",
   "pygments_lexer": "ipython3",
   "version": "3.5.2"
  }
 },
 "nbformat": 4,
 "nbformat_minor": 1
}
